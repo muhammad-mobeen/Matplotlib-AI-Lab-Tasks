{
  "cells": [
    {
      "attachments": {},
      "cell_type": "markdown",
      "metadata": {},
      "source": [
        "<h1 align=\"center\">Title: Pandas Plotting in Python</h1>\n",
        "<p>Name: Muhammad Mobeen<br>\n",
        "Reg No: 200901097<br>\n",
        "BS-CS-01(B)<br>\n",
        "Artificial Intelligence Lab6 Tasks [6 April 2023]<br>\n",
        "Github URL: <a href=\"https://github.com/muhammad-mobeen/Matplotlib-AI-Lab-Tasks\">github.com/muhammad-mobeen/Matplotlib-AI-Lab-Tasks</a><br>\n",
        "Submitted to Mam Reeda Saeed</p>"
      ]
    },
    {
      "attachments": {},
      "cell_type": "markdown",
      "metadata": {},
      "source": [
        "<h2 align=\"center\">Task 1</h2>"
      ]
    },
    {
      "attachments": {},
      "cell_type": "markdown",
      "metadata": {},
      "source": [
        "<h3>1) Read drinks.csv</h3>"
      ]
    },
    {
      "cell_type": "code",
      "execution_count": 41,
      "metadata": {},
      "outputs": [],
      "source": [
        "import pandas as pd\n",
        "\n",
        "# Read in the drinks.csv file and create a DataFrame\n",
        "drinks_df = pd.read_csv('drinks.csv')"
      ]
    },
    {
      "attachments": {},
      "cell_type": "markdown",
      "metadata": {},
      "source": [
        "<h3>2) Print Head & Tail</h3>"
      ]
    },
    {
      "cell_type": "code",
      "execution_count": 42,
      "metadata": {},
      "outputs": [
        {
          "name": "stdout",
          "output_type": "stream",
          "text": [
            "       country  beer_servings  spirit_servings  wine_servings  \\\n",
            "0  Afghanistan              0                0              0   \n",
            "1      Albania             89              132             54   \n",
            "2      Algeria             25                0             14   \n",
            "3      Andorra            245              138            312   \n",
            "4       Angola            217               57             45   \n",
            "\n",
            "   total_litres_of_pure_alcohol continent  \n",
            "0                           0.0        AS  \n",
            "1                           4.9        EU  \n",
            "2                           0.7        AF  \n",
            "3                          12.4        EU  \n",
            "4                           5.9        AF  \n",
            "       country  beer_servings  spirit_servings  wine_servings  \\\n",
            "188  Venezuela            333              100              3   \n",
            "189    Vietnam            111                2              1   \n",
            "190      Yemen              6                0              0   \n",
            "191     Zambia             32               19              4   \n",
            "192   Zimbabwe             64               18              4   \n",
            "\n",
            "     total_litres_of_pure_alcohol continent  \n",
            "188                           7.7        SA  \n",
            "189                           2.0        AS  \n",
            "190                           0.1        AS  \n",
            "191                           2.5        AF  \n",
            "192                           4.7        AF  \n"
          ]
        }
      ],
      "source": [
        "# Print the first 5 rows of the DataFrame\n",
        "print(drinks_df.head())\n",
        "# Print the last 5 rows of the DataFrame\n",
        "print(drinks_df.tail())"
      ]
    },
    {
      "attachments": {},
      "cell_type": "markdown",
      "metadata": {},
      "source": [
        "<h3>3) Examine the default index, data types and shapes</h3>"
      ]
    },
    {
      "cell_type": "code",
      "execution_count": 43,
      "metadata": {},
      "outputs": [
        {
          "name": "stdout",
          "output_type": "stream",
          "text": [
            "Default Index: RangeIndex(start=0, stop=193, step=1)\n",
            "-------------------------------------------------------------\n",
            "Data Types:-\n",
            "country                          object\n",
            "beer_servings                     int64\n",
            "spirit_servings                   int64\n",
            "wine_servings                     int64\n",
            "total_litres_of_pure_alcohol    float64\n",
            "continent                        object\n",
            "dtype: object\n",
            "-------------------------------------------------------------\n",
            "Shape: (193, 6)\n"
          ]
        }
      ],
      "source": [
        "# Print the default index of the DataFrame\n",
        "print(\"Default Index: {}\".format(drinks_df.index))\n",
        "print(\"-------------------------------------------------------------\")\n",
        "\n",
        "# Print the data types of the columns in the DataFrame\n",
        "print(\"Data Types:-\\n{}\".format(drinks_df.dtypes))\n",
        "print(\"-------------------------------------------------------------\")\n",
        "\n",
        "# Print the shape of the DataFrame\n",
        "print(\"Shape: {}\".format(drinks_df.shape))"
      ]
    },
    {
      "attachments": {},
      "cell_type": "markdown",
      "metadata": {},
      "source": [
        "<h3>4) Print 'beer_servings' Series</h3>"
      ]
    },
    {
      "cell_type": "code",
      "execution_count": 44,
      "metadata": {},
      "outputs": [
        {
          "name": "stdout",
          "output_type": "stream",
          "text": [
            "0        0\n",
            "1       89\n",
            "2       25\n",
            "3      245\n",
            "4      217\n",
            "      ... \n",
            "188    333\n",
            "189    111\n",
            "190      6\n",
            "191     32\n",
            "192     64\n",
            "Name: beer_servings, Length: 193, dtype: int64\n"
          ]
        }
      ],
      "source": [
        "# Print the \"beer_servings\" column of the DataFrame\n",
        "print(drinks_df['beer_servings'])"
      ]
    },
    {
      "attachments": {},
      "cell_type": "markdown",
      "metadata": {},
      "source": [
        "<h3>5) Mean of Beer Servings Dataset</h3>"
      ]
    },
    {
      "cell_type": "code",
      "execution_count": 45,
      "metadata": {},
      "outputs": [
        {
          "name": "stdout",
          "output_type": "stream",
          "text": [
            "Mean of Beer Servings: 106.16062176165804\n"
          ]
        }
      ],
      "source": [
        "# Print the mean of the \"beer_servings\" column of the DataFrame\n",
        "print(\"Mean of Beer Servings: {}\".format(drinks_df['beer_servings'].mean()))"
      ]
    },
    {
      "attachments": {},
      "cell_type": "markdown",
      "metadata": {},
      "source": [
        "<h3>6) Count the Occurences of Each Continent</h3>"
      ]
    },
    {
      "cell_type": "code",
      "execution_count": 46,
      "metadata": {},
      "outputs": [
        {
          "name": "stdout",
          "output_type": "stream",
          "text": [
            "Continents Frequency:-\n",
            "AF    53\n",
            "EU    45\n",
            "AS    44\n",
            "OC    16\n",
            "SA    12\n",
            "Name: continent, dtype: int64\n"
          ]
        }
      ],
      "source": [
        "# Print the frequency of each continent in the \"continent\" column of the DataFrame\n",
        "print(\"Continents Frequency:-\\n{}\".format(drinks_df['continent'].value_counts()))"
      ]
    },
    {
      "attachments": {},
      "cell_type": "markdown",
      "metadata": {},
      "source": [
        "<h3>7) Count the Occurences of Each Continent</h3>"
      ]
    },
    {
      "cell_type": "code",
      "execution_count": 47,
      "metadata": {},
      "outputs": [
        {
          "name": "stdout",
          "output_type": "stream",
          "text": [
            "Empty DataFrame\n",
            "Columns: [country, beer_servings, spirit_servings, wine_servings, total_litres_of_pure_alcohol, continent]\n",
            "Index: []\n"
          ]
        }
      ],
      "source": [
        "# Create a new DataFrame called \"europe\" that contains only the rows where the \"continent\" column is \"Europe\" and the \"wine_servings\" column is greater than 300\n",
        "europe = drinks_df[(drinks_df['continent'] == 'Europe') & (drinks_df['wine_servings'] > 300)]\n",
        "print(europe)"
      ]
    },
    {
      "attachments": {},
      "cell_type": "markdown",
      "metadata": {},
      "source": [
        "<h2 align=\"center\">Task 3</h2>"
      ]
    },
    {
      "attachments": {},
      "cell_type": "markdown",
      "metadata": {},
      "source": [
        "<h3>1) Bar Plot</h3>"
      ]
    },
    {
      "cell_type": "code",
      "execution_count": 48,
      "metadata": {},
      "outputs": [
        {
          "data": {
            "image/png": "[encoded data removed]",
            "text/plain": [
              "<Figure size 576x432 with 1 Axes>"
            ]
          },
          "metadata": {
            "needs_background": "light"
          },
          "output_type": "display_data"
        }
      ],
      "source": [
        "import matplotlib.pyplot as plt\n",
        "\n",
        "\n",
        "# Create a bar plot that shows the total litres of pure alcohol consumption for each continent\n",
        "plt.figure(figsize=(8,6))\n",
        "drinks_df.groupby('continent')['total_litres_of_pure_alcohol'].sum().plot(kind='bar')\n",
        "plt.title('Total Litres of Pure Alcohol consumption by Continent')\n",
        "plt.xlabel('Continent')\n",
        "plt.ylabel('Total Litres of Pure Alcohol')\n",
        "plt.show()"
      ]
    },
    {
      "attachments": {},
      "cell_type": "markdown",
      "metadata": {},
      "source": [
        "<h3>2) Scatter Plot</h3>"
      ]
    },
    {
      "cell_type": "code",
      "execution_count": 49,
      "metadata": {},
      "outputs": [
        {
          "data": {
            "image/png": "[encoded data removed]",
            "text/plain": [
              "<Figure size 576x432 with 1 Axes>"
            ]
          },
          "metadata": {
            "needs_background": "light"
          },
          "output_type": "display_data"
        }
      ],
      "source": [
        "# Create a scatter plot that shows the relationship between \"beer_servings\" and \"spirit_servings\"\n",
        "plt.figure(figsize=(8,6))\n",
        "plt.scatter(x=drinks_df['beer_servings'], y=drinks_df['spirit_servings'])\n",
        "plt.title('Beer Servings vs Spirit Servings')\n",
        "plt.xlabel('Beer Servings')\n",
        "plt.ylabel('Spirit Servings')\n",
        "plt.show()"
      ]
    },
    {
      "attachments": {},
      "cell_type": "markdown",
      "metadata": {},
      "source": [
        "<h3>3) Plot of Count of Countries by Continents</h3>"
      ]
    },
    {
      "cell_type": "code",
      "execution_count": 50,
      "metadata": {},
      "outputs": [
        {
          "data": {
            "image/png": "[encoded data removed]",
            "text/plain": [
              "<Figure size 576x432 with 1 Axes>"
            ]
          },
          "metadata": {
            "needs_background": "light"
          },
          "output_type": "display_data"
        }
      ],
      "source": [
        "# Create a bar plot that shows the count of countries in each continent\n",
        "plt.figure(figsize=(8,6))\n",
        "drinks_df['continent'].value_counts().plot(kind='bar')\n",
        "plt.title('Count of Countries by Continent')\n",
        "plt.xlabel('Continent')\n",
        "plt.ylabel('Count')\n",
        "plt.show()"
      ]
    }
  ],
  "metadata": {
    "kernelspec": {
      "display_name": "base",
      "language": "python",
      "name": "python3"
    },
    "language_info": {
      "codemirror_mode": {
        "name": "ipython",
        "version": 3
      },
      "file_extension": ".py",
      "mimetype": "text/x-python",
      "name": "python",
      "nbconvert_exporter": "python",
      "pygments_lexer": "ipython3",
      "version": "3.8.8"
    },
    "vscode": {
      "interpreter": {
        "hash": "6fe7c4f14ba57f800ed0a8c310d3d00a62ac00e71da74ba598c9bcf0bb8327b5"
      }
    }
  },
  "nbformat": 4,
  "nbformat_minor": 4
}
